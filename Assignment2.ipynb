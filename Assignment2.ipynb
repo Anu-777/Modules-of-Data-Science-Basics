{
  "nbformat": 4,
  "nbformat_minor": 0,
  "metadata": {
    "colab": {
      "provenance": []
    },
    "kernelspec": {
      "name": "python3",
      "display_name": "Python 3"
    },
    "language_info": {
      "name": "python"
    }
  },
  "cells": [
    {
      "cell_type": "code",
      "execution_count": null,
      "metadata": {
        "id": "pgVD2WQn9fg7"
      },
      "outputs": [],
      "source": []
    },
    {
      "cell_type": "markdown",
      "source": [
        "Problem Set 2: Python Data Structure"
      ],
      "metadata": {
        "id": "b_2KRKDb_KW7"
      }
    },
    {
      "cell_type": "markdown",
      "source": [
        "Question 1: Discuss string slicing and provide examples."
      ],
      "metadata": {
        "id": "GWxaARLF_RXG"
      }
    },
    {
      "cell_type": "markdown",
      "source": [
        "A) String slicing allows us to extract portion of string by specifying a start and end index.\n",
        "start: Starting index of the slice (inclusive).\n",
        "end: Ending index (exclusive).\n",
        "step: Steps between indices."
      ],
      "metadata": {
        "id": "zxqbSsCZ_qOW"
      }
    },
    {
      "cell_type": "code",
      "source": [
        "text = \"Hello, World!\"\n",
        "substring = text[0:5]\n",
        "print(substring) #output: Hello\n",
        "#slicing from index 7 to the end\n",
        "print(text[7:] ) #output: World!\n",
        "#Slicing with step 2\n",
        "print(text[::2]) #Output: Hlo ol!\n"
      ],
      "metadata": {
        "colab": {
          "base_uri": "https://localhost:8080/"
        },
        "id": "N48qUT9tAAwU",
        "outputId": "88432cc3-2d6e-4276-c642-543fa0c819bd"
      },
      "execution_count": 4,
      "outputs": [
        {
          "output_type": "stream",
          "name": "stdout",
          "text": [
            "Hello\n",
            "World!\n",
            "Hlo ol!\n"
          ]
        }
      ]
    },
    {
      "cell_type": "markdown",
      "source": [
        "b) Negative Indexing"
      ],
      "metadata": {
        "id": "oQlR7hhsBcRj"
      }
    },
    {
      "cell_type": "code",
      "source": [
        "print(text[-6:])   # Output: World!\n",
        "print(text[::-1])  # Output: !dlroW ,olleH (reverse string)"
      ],
      "metadata": {
        "colab": {
          "base_uri": "https://localhost:8080/"
        },
        "id": "dAN85q8BBa53",
        "outputId": "8611b942-689e-4764-9cf1-ed3b508b6d3f"
      },
      "execution_count": 5,
      "outputs": [
        {
          "output_type": "stream",
          "name": "stdout",
          "text": [
            "World!\n",
            "!dlroW ,olleH\n"
          ]
        }
      ]
    },
    {
      "cell_type": "markdown",
      "source": [
        "Question 2: Explain the key features of lists in python.\n",
        "\n",
        "Lists in Python are mutable, ordered collections of items. They allow storing multiple data types (numbers, strings, other lists, etc.).\n",
        "\n",
        "Key Features:\n",
        "\n",
        "Mutable: Lists can be modified after creation.\n",
        "Ordered: Elements retain the order in which they are inserted.\n",
        "Heterogeneous elements: Lists can contain different data types.\n",
        "Dynamic: Lists can grow and shrink as needed."
      ],
      "metadata": {
        "id": "3StgndrWBreh"
      }
    },
    {
      "cell_type": "code",
      "source": [
        "my_list = [1, \"apple\", 3.14, [5, 6, 7]]\n",
        "\n",
        "print(my_list)"
      ],
      "metadata": {
        "colab": {
          "base_uri": "https://localhost:8080/"
        },
        "id": "Fzij2TUtB3-v",
        "outputId": "b02011be-f5a0-4aa9-8564-7839fd4c4f3c"
      },
      "execution_count": 6,
      "outputs": [
        {
          "output_type": "stream",
          "name": "stdout",
          "text": [
            "[1, 'apple', 3.14, [5, 6, 7]]\n"
          ]
        }
      ]
    },
    {
      "cell_type": "markdown",
      "source": [
        "Question 3: Describe how to access, modify and delete items in a list with examples."
      ],
      "metadata": {
        "id": "lp8V9tQMB-h-"
      }
    },
    {
      "cell_type": "markdown",
      "source": [
        "Access will be idex (starting from 0)"
      ],
      "metadata": {
        "id": "UaGFWn1HCC4A"
      }
    },
    {
      "cell_type": "code",
      "source": [
        "fruits = [\"Anu\", \"Ashir\", \"Deena\"]\n",
        "\n",
        "# Accessing the first item\n",
        "print(fruits[0])  # Output: Anu\n",
        "\n",
        "# Accessing the last item\n",
        "print(fruits[-1])  # Output: Deena"
      ],
      "metadata": {
        "colab": {
          "base_uri": "https://localhost:8080/"
        },
        "id": "PgFQOSpAB_fY",
        "outputId": "5ee911d9-61c6-41cd-d025-eef42846700a"
      },
      "execution_count": 7,
      "outputs": [
        {
          "output_type": "stream",
          "name": "stdout",
          "text": [
            "Anu\n",
            "Deena\n"
          ]
        }
      ]
    },
    {
      "cell_type": "markdown",
      "source": [
        "Modifying Items: assigning new values to a specific index."
      ],
      "metadata": {
        "id": "a4AGr4NwCcEv"
      }
    },
    {
      "cell_type": "code",
      "source": [
        "fruits[1] = \"Steven\"\n",
        "print(fruits)  # Output: ['Chinna', 'Steven', 'Shreshta']"
      ],
      "metadata": {
        "colab": {
          "base_uri": "https://localhost:8080/"
        },
        "id": "hubDIBMFCecR",
        "outputId": "c51d8f50-e547-4bd6-d2ba-3f3c0e99377b"
      },
      "execution_count": 8,
      "outputs": [
        {
          "output_type": "stream",
          "name": "stdout",
          "text": [
            "['Anu', 'Steven', 'Deena']\n"
          ]
        }
      ]
    },
    {
      "cell_type": "markdown",
      "source": [
        "Deleting Items: Use the del keyword, pop(), or remove() method to delete items."
      ],
      "metadata": {
        "id": "qzU5YVvVCvsc"
      }
    },
    {
      "cell_type": "code",
      "source": [
        "# Using del\n",
        "del fruits[2]\n",
        "print(fruits)  # Output: ['Anu', 'Steven']\n",
        "\n",
        "# Using pop() to remove the last item\n",
        "fruits.pop()\n",
        "print(fruits)  # Output: ['Anu']\n",
        "\n",
        "# Using remove() to remove by value\n",
        "fruits.remove(\"Anu\")\n",
        "print(fruits)  # Output: []"
      ],
      "metadata": {
        "colab": {
          "base_uri": "https://localhost:8080/"
        },
        "id": "YCdYwVmMCvGP",
        "outputId": "b46b4917-c0a7-4f9e-b1d2-d644b32ec9d8"
      },
      "execution_count": 9,
      "outputs": [
        {
          "output_type": "stream",
          "name": "stdout",
          "text": [
            "['Anu', 'Steven']\n",
            "['Anu']\n",
            "[]\n"
          ]
        }
      ]
    },
    {
      "cell_type": "markdown",
      "source": [
        "Question 4: Compare and contrast tuples and list with examples.\n",
        "\n",
        "Feature : Mutability , List : Mutable (can modify elements), Tuple: \tImmutable (cannot modify elements)\n",
        "Feature : Syntax\tList :Created using square brackets [ ] Tuple:Created using parentheses ( )\n",
        "Feature :Performance List :Slower due to mutability Tuple:Faster due to immutability\n",
        "Feature :Use Case\tList : When data can change Tuple: When data should remain constant"
      ],
      "metadata": {
        "id": "GiGWSQyvDFiA"
      }
    },
    {
      "cell_type": "code",
      "source": [
        "my_list = [1, 2, 3]\n",
        "my_tuple = (1, 2, 3)\n",
        "\n",
        "# List modification\n",
        "my_list[1] = 20\n",
        "print(my_list)  # Output: [1, 20, 3]\n",
        "\n",
        "# Tuple cannot be modified\n",
        "# my_tuple[1] = 20  # This will raise an error"
      ],
      "metadata": {
        "colab": {
          "base_uri": "https://localhost:8080/"
        },
        "id": "YhfgYOvpEFAc",
        "outputId": "c4304d46-1763-4faf-823e-09938f25dcb5"
      },
      "execution_count": 10,
      "outputs": [
        {
          "output_type": "stream",
          "name": "stdout",
          "text": [
            "[1, 20, 3]\n"
          ]
        }
      ]
    },
    {
      "cell_type": "markdown",
      "source": [
        "Question 5: Describe the key features of sets and provide examples of their use.\n",
        "Sets are unordered, mutable collections of unique elements in Python. They are useful when you need to store distinct items and perform operations like union, intersection, and difference.\n",
        "\n",
        "Key Features:\n",
        "\n",
        "Unordered: No particular order is maintained.\n",
        "Unique Elements: Duplicates are not allowed.\n",
        "Mutable: You can add or remove elements."
      ],
      "metadata": {
        "id": "7fKBb_kiEQ6Y"
      }
    },
    {
      "cell_type": "code",
      "source": [
        "my_set = {1, 2, 3, 4, 2, 3}\n",
        "print(my_set)  # Output: {1, 2, 3, 4} (duplicates removed)"
      ],
      "metadata": {
        "colab": {
          "base_uri": "https://localhost:8080/"
        },
        "id": "G1E_LJdSETJL",
        "outputId": "6ef308c5-807c-4591-f1d4-497958abded5"
      },
      "execution_count": 11,
      "outputs": [
        {
          "output_type": "stream",
          "name": "stdout",
          "text": [
            "{1, 2, 3, 4}\n"
          ]
        }
      ]
    },
    {
      "cell_type": "markdown",
      "source": [
        "Question 6: Discuss the use case of tuples and sets in python programming.\n",
        "Use Case of Tuples:\n",
        "\n",
        "Immutability: Tuples are used when the data should remain constant, e.g., representing geographic coordinates, fixed configurations, or returning multiple values from functions."
      ],
      "metadata": {
        "id": "AYFiHPdOEV4L"
      }
    },
    {
      "cell_type": "code",
      "source": [
        "coordinates = (10.0, 20.0)  # Fixed coordinates"
      ],
      "metadata": {
        "id": "WYWRXShgEXzv"
      },
      "execution_count": 12,
      "outputs": []
    },
    {
      "cell_type": "markdown",
      "source": [],
      "metadata": {
        "id": "eSS2muCmCuk0"
      }
    },
    {
      "cell_type": "markdown",
      "source": [
        "Use Case of Sets:\n",
        "\n",
        "Unique and unordered data: Sets are used when you need to remove duplicates or perform operations like union, intersection, or difference."
      ],
      "metadata": {
        "id": "J4wCnRxuEbVr"
      }
    },
    {
      "cell_type": "code",
      "source": [
        "set_a = {1, 2, 3}\n",
        "set_b = {3, 4, 5}\n",
        "\n",
        "# Intersection\n",
        "print(set_a & set_b)  # Output: {3}\n",
        "\n",
        "# Union\n",
        "print(set_a | set_b)  # Output: {1, 2, 3, 4, 5}"
      ],
      "metadata": {
        "colab": {
          "base_uri": "https://localhost:8080/"
        },
        "id": "Xgj-LaVXEdKo",
        "outputId": "8e9b2a76-e81b-444c-e598-32277b4053e5"
      },
      "execution_count": 13,
      "outputs": [
        {
          "output_type": "stream",
          "name": "stdout",
          "text": [
            "{3}\n",
            "{1, 2, 3, 4, 5}\n"
          ]
        }
      ]
    },
    {
      "cell_type": "markdown",
      "source": [
        "Question 7: Discuss how to add, modify and delete items in a dictionary with examples.\n",
        "A dictionary is a collection of key-value pairs in Python, where keys must be unique and immutable.\n",
        "\n",
        "Adding Items:\n",
        "\n",
        "You can add a new key-value pair by assigning it."
      ],
      "metadata": {
        "id": "NMutloRoEfrl"
      }
    },
    {
      "cell_type": "code",
      "source": [
        "my_dict = {'name': 'Alice', 'age': 25}\n",
        "my_dict['city'] = 'New York'\n",
        "print(my_dict)  # Output: {'name': 'Alice', 'age': 25, 'city': 'New York'}"
      ],
      "metadata": {
        "colab": {
          "base_uri": "https://localhost:8080/"
        },
        "id": "fL_9-WufEiOb",
        "outputId": "e21d4d00-5920-4a4b-cfc5-7165336b29b6"
      },
      "execution_count": 14,
      "outputs": [
        {
          "output_type": "stream",
          "name": "stdout",
          "text": [
            "{'name': 'Alice', 'age': 25, 'city': 'New York'}\n"
          ]
        }
      ]
    },
    {
      "cell_type": "markdown",
      "source": [
        "Modifying Items:\n",
        "\n",
        "To modify a value, assign a new value to an existing key."
      ],
      "metadata": {
        "id": "XAo_JP9TEk2t"
      }
    },
    {
      "cell_type": "code",
      "source": [
        "my_dict['age'] = 30\n",
        "print(my_dict)  # Output: {'name': 'Alice', 'age': 30, 'city': 'New York'}"
      ],
      "metadata": {
        "colab": {
          "base_uri": "https://localhost:8080/"
        },
        "id": "PoA6tLw1EnIF",
        "outputId": "5076c14c-199e-4d96-fd88-9fc3ff33ce23"
      },
      "execution_count": 15,
      "outputs": [
        {
          "output_type": "stream",
          "name": "stdout",
          "text": [
            "{'name': 'Alice', 'age': 30, 'city': 'New York'}\n"
          ]
        }
      ]
    },
    {
      "cell_type": "markdown",
      "source": [
        "Deleting Items:\n",
        "\n",
        "Use the del keyword or pop() method to delete items."
      ],
      "metadata": {
        "id": "jTOmFTBBEpfE"
      }
    },
    {
      "cell_type": "code",
      "source": [
        "# Using del\n",
        "del my_dict['city']\n",
        "print(my_dict)  # Output: {'name': 'Alice', 'age': 30}\n",
        "\n",
        "# Using pop()\n",
        "my_dict.pop('age')\n",
        "print(my_dict)  # Output: {'name': 'Alice'}"
      ],
      "metadata": {
        "colab": {
          "base_uri": "https://localhost:8080/"
        },
        "id": "WJ0kZpBLEqOW",
        "outputId": "292a9ec4-432a-4b4b-a691-aee9c1a91941"
      },
      "execution_count": 16,
      "outputs": [
        {
          "output_type": "stream",
          "name": "stdout",
          "text": [
            "{'name': 'Alice', 'age': 30}\n",
            "{'name': 'Alice'}\n"
          ]
        }
      ]
    },
    {
      "cell_type": "markdown",
      "source": [
        "Question 8: Discuss the importance of dictionary keys being immutable and provide examples."
      ],
      "metadata": {
        "id": "R8pFECKHEtbT"
      }
    },
    {
      "cell_type": "markdown",
      "source": [
        "Importance of Dictionary Keys Being Immutable\n",
        "\n",
        "In Python, dictionary keys must be immutable types like strings, numbers, or tuples (with only immutable elements) because the dictionary relies on the hash value of the key to store and retrieve values efficiently. If a key is mutable and its value changes, the dictionary would not be able to guarantee the correct retrieval of the associated value."
      ],
      "metadata": {
        "id": "Gw3dH9HFEvbA"
      }
    },
    {
      "cell_type": "code",
      "source": [
        "# Immutable key\n",
        "my_dict = {(1, 2): \"Point\"}  # A tuple as a key (immutable)"
      ],
      "metadata": {
        "id": "1Bcg4hgVEyOr"
      },
      "execution_count": 17,
      "outputs": []
    },
    {
      "cell_type": "code",
      "source": [
        "# Trying to use a list as a key (mutable)\n",
        "# my_dict = {[1, 2]: \"Point\"}  # This will raise a TypeError"
      ],
      "metadata": {
        "id": "oYkhNHyXE3d8"
      },
      "execution_count": 18,
      "outputs": []
    },
    {
      "cell_type": "markdown",
      "source": [
        "Using mutable objects like lists as dictionary keys would lead to errors because the list can change, affecting the key's hash value and thus breaking the dictionary's internal lookup mechanisms.\n",
        "\n",
        "Conclusion\n",
        "\n",
        "String slicing lets you extract substrings using indices.\n",
        "Lists are mutable, ordered collections used when you need to modify data.\n",
        "Tuples are immutable, making them suitable for storing constant data.\n",
        "Sets are useful for storing unique items and performing mathematical set operations.\n",
        "Dictionaries store key-value pairs, and keys must be immutable to ensure correct data retrieval.\n"
      ],
      "metadata": {
        "id": "hWfOgbFtE7Ra"
      }
    },
    {
      "cell_type": "markdown",
      "source": [],
      "metadata": {
        "id": "qjGjoEGRE1YV"
      }
    }
  ]
}